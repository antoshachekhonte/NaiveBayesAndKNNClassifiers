{
 "cells": [
  {
   "cell_type": "code",
   "execution_count": 1,
   "metadata": {
    "collapsed": true
   },
   "outputs": [],
   "source": [
    "%matplotlib inline\n",
    "import numpy as np\n",
    "import pandas as pd\n",
    "import sklearn as sk\n",
    "from scipy.stats import bernoulli\n",
    "from scipy.stats import pareto\n",
    "from scipy.special import expit\n",
    "import matplotlib.pyplot as plt\n",
    "import math"
   ]
  },
  {
   "cell_type": "code",
   "execution_count": 2,
   "metadata": {
    "collapsed": true
   },
   "outputs": [],
   "source": [
    "x = pd.read_csv(\"./X_train.csv\", header=None)\n",
    "y = pd.read_csv(\"./y_train.csv\", header=None)\n",
    "x_test = pd.read_csv(\"./X_test.csv\", header=None)\n",
    "y_test = pd.read_csv(\"./y_test.csv\", header=None)"
   ]
  },
  {
   "cell_type": "markdown",
   "metadata": {},
   "source": [
    "### Introduction\n",
    "The dataset loaded above consists of examples of spam and non-spam emails. There are 4508 training examples, and 93 testing examples. The feature vector $x$ is a 57 dimensional vector, and the target vector $y$ is a dichotomous variable where $y=1$ indicates spam and $y=0$ indicates not spam. I have built two predictive models using the data - a naive Bayes classifier, and a K-nearest neighbors classifier."
   ]
  },
  {
   "cell_type": "markdown",
   "metadata": {},
   "source": [
    "### 1. Naive Bayes Classifier\n",
    "Below is my implementation of a naive Bayes classifier. Given a set of labeled data $(y_1,x_1)...(y_n,x_n)$, where $y \\in \\{0,1\\}$, the classifier observes a new $x_0$ and predicts $y_0$ as follows: $$y_0 = argmax\\ p(y_0=y|\\pi)\\prod_{d=1}^D p_d(x_{0,d}|\\theta^{(d)}_y)$$\n",
    "We are assuming the distribution $p(y_0=y|\\pi)=Bernoulli(y|\\pi)$. Further, we are assuming that the first 54 binary dimensions are Bernoulli distributinos, and the last 3 positive dimensions are Pareto distributions."
   ]
  },
  {
   "cell_type": "code",
   "execution_count": 5,
   "metadata": {
    "collapsed": true
   },
   "outputs": [],
   "source": [
    "# Reformatting features\n",
    "x_bernoulli = x.iloc[:,0:54]\n",
    "x_pareto = x.iloc[:,54:57]\n",
    "\n",
    "x_bernoulli = pd.concat([x_bernoulli,y.rename(columns={0:'y'})],axis=1)\n",
    "x_pareto = pd.concat([x_pareto,y.rename(columns={0:'y'})],axis=1)\n",
    "\n",
    "x_bernoulli_classOne = x_bernoulli.query('y==1')\n",
    "x_pareto_classOne = x_pareto.query('y==1')\n",
    "x_bernoulli_classZero = x_bernoulli.query('y==0')\n",
    "x_pareto_classZero = x_pareto.query('y==0')"
   ]
  },
  {
   "cell_type": "markdown",
   "metadata": {},
   "source": [
    "### MLE solutions\n",
    "For the bernoulli distribution, the maximum likelihood solution has the form: $$\\hat{\\pi} = \\frac{\\sum_{i=1}^n y_i}{n}$$\n",
    "For the pareto distribution, the maximum likelihood solution has the form: $$\\hat{\\theta} = \\frac{n}{\\sum_{i=1}^n \\log{x_{i}}}$$\n",
    "These MLE solutions have been implemented below."
   ]
  },
  {
   "cell_type": "code",
   "execution_count": 6,
   "metadata": {
    "collapsed": true
   },
   "outputs": [],
   "source": [
    "# Training model parameters\n",
    "# Finding MLE solution for pi\n",
    "pi = y.iloc[:,0].mean()\n",
    "\n",
    "# Finding MLE solution for thetaOne\n",
    "thetaOneOne = []\n",
    "for i in range(0,54):\n",
    "    theta = x_bernoulli_classOne.iloc[:,i].mean()\n",
    "    thetaOneOne.append(theta)\n",
    "    \n",
    "thetaOneZero = []\n",
    "for i in range(0,54):\n",
    "    theta = x_bernoulli_classZero.iloc[:,i].mean()\n",
    "    thetaOneZero.append(theta)\n",
    "\n",
    "# Finding MLE solution for thetaTwo\n",
    "thetaTwoOne = []\n",
    "for i in range(0,3):\n",
    "    theta = 1/(x_pareto_classOne.iloc[:,i].mean())\n",
    "    thetaTwoOne.append(theta)\n",
    "    \n",
    "thetaTwoZero = []\n",
    "for i in range(0,3):\n",
    "    theta = 1/(np.log(x_pareto_classZero.iloc[:,i]).mean())\n",
    "    thetaTwoZero.append(theta)"
   ]
  },
  {
   "cell_type": "markdown",
   "metadata": {},
   "source": [
    "### Implementing classifier on training data"
   ]
  },
  {
   "cell_type": "code",
   "execution_count": 7,
   "metadata": {
    "collapsed": true
   },
   "outputs": [],
   "source": [
    "# Implementing Naive Bayes classifier on the training data\n",
    "y_predicted = []\n",
    "for k in range(0,len(x)):\n",
    "    bOne = 1\n",
    "    pOne = 1\n",
    "    for i in range(0,54):\n",
    "        bOne = bOne*bernoulli.pmf(x.iloc[k,i],thetaOneOne[i])\n",
    "    for i in range(54,57):\n",
    "        pOne = pOne*pareto.pdf(x.iloc[k,i],thetaOneOne[i-54])\n",
    "    bZero = 1\n",
    "    pZero = 1\n",
    "    for i in range(0,54):\n",
    "        bZero = bZero*bernoulli.pmf(x.iloc[k,i],thetaOneZero[i])\n",
    "    for i in range(54,57):\n",
    "        pZero = pZero*pareto.pdf(x.iloc[k,i],thetaTwoZero[i-54])\n",
    "\n",
    "    ProbabilityTargetIsOne = bernoulli.pmf(1,pi)*bOne*pOne\n",
    "    ProbabilityTargetIsZero = bernoulli.pmf(0,pi)*bZero*pZero\n",
    "\n",
    "    if(ProbabilityTargetIsOne>ProbabilityTargetIsZero):\n",
    "        y_predicted.append(1)\n",
    "    else:\n",
    "        y_predicted.append(0)"
   ]
  },
  {
   "cell_type": "markdown",
   "metadata": {},
   "source": [
    "### Evaluating performance on training data"
   ]
  },
  {
   "cell_type": "code",
   "execution_count": 8,
   "metadata": {},
   "outputs": [
    {
     "data": {
      "text/plain": [
       "0.8906388642413487"
      ]
     },
     "execution_count": 8,
     "metadata": {},
     "output_type": "execute_result"
    }
   ],
   "source": [
    "# Finding the train score\n",
    "y_predicted = pd.DataFrame(pd.Series(y_predicted))\n",
    "\n",
    "correct = 0\n",
    "for i in range(0,len(y)):\n",
    "    if (y_predicted.iloc[i,0] == y.iloc[i,0]):\n",
    "        correct = correct + 1\n",
    "\n",
    "correct/len(y)"
   ]
  },
  {
   "cell_type": "markdown",
   "metadata": {},
   "source": [
    "### Making predictions\n",
    "In the binary case, we declare class $y=1$ if:\n",
    "$$\\log \\frac{p(x|y=1)p(y=1)}{p(x|y=0)p(y=0)}>0$$\n",
    "We declare class $y=0$ if:\n",
    "$$\\log \\frac{p(x|y=1)p(y=1)}{p(x|y=0)p(y=0)}<0$$"
   ]
  },
  {
   "cell_type": "code",
   "execution_count": 10,
   "metadata": {
    "collapsed": true
   },
   "outputs": [],
   "source": [
    "# Implementing Naive Bayes classifier on the training data\n",
    "y_predicted = []\n",
    "for k in range(0,len(x_test)):\n",
    "    bOne = 1\n",
    "    pOne = 1\n",
    "    for i in range(0,54):\n",
    "        bOne = bOne*bernoulli.pmf(x_test.iloc[k,i],thetaOneOne[i])\n",
    "    for i in range(54,57):\n",
    "        pOne = pOne*pareto.pdf(x_test.iloc[k,i],thetaOneOne[i-54])\n",
    "    bZero = 1\n",
    "    pZero = 1\n",
    "    for i in range(0,54):\n",
    "        bZero = bZero*bernoulli.pmf(x_test.iloc[k,i],thetaOneZero[i])\n",
    "    for i in range(54,57):\n",
    "        pZero = pZero*pareto.pdf(x_test.iloc[k,i],thetaTwoZero[i-54])\n",
    "\n",
    "    ProbabilityTargetIsOne = bernoulli.pmf(1,pi)*bOne*pOne\n",
    "    ProbabilityTargetIsZero = bernoulli.pmf(0,pi)*bZero*pZero\n",
    "\n",
    "    if(ProbabilityTargetIsOne>ProbabilityTargetIsZero):\n",
    "        y_predicted.append(1)\n",
    "    else:\n",
    "        y_predicted.append(0)"
   ]
  },
  {
   "cell_type": "markdown",
   "metadata": {},
   "source": [
    "### Building confusion matrix "
   ]
  },
  {
   "cell_type": "code",
   "execution_count": 12,
   "metadata": {},
   "outputs": [
    {
     "name": "stdout",
     "output_type": "stream",
     "text": [
      "                Predicted value = 0  Predicted value = 1\n",
      "True value = 0                   54                    2\n",
      "True value = 1                    6                   31\n",
      "\n",
      "Prediction Accuracy: 0.9139784946236559\n"
     ]
    }
   ],
   "source": [
    "# Building confusion matrix\n",
    "cell_00 = 0\n",
    "cell_01 = 0\n",
    "cell_10 = 0\n",
    "cell_11 = 0\n",
    "for i in range(0,len(y_test)):\n",
    "    if(y_test.iloc[i,0]==y_predicted[i]==0):\n",
    "        cell_00 = cell_00 + 1\n",
    "    elif(y_test.iloc[i,0]==y_predicted[i]==1):\n",
    "        cell_11 = cell_11 + 1\n",
    "    elif(y_test.iloc[i,0]==0 and y_predicted[i]==1):\n",
    "        cell_01 = cell_01 + 1\n",
    "    else:\n",
    "        cell_10 = cell_10 + 1\n",
    "\n",
    "requiredTableRowOne = pd.DataFrame(pd.Series([cell_00, cell_01]).values.reshape(-1,2))\n",
    "requiredTableRowTwo = pd.DataFrame(pd.Series([cell_10, cell_11]).values.reshape(-1,2))\n",
    "requiredTable = requiredTableRowOne.append(requiredTableRowTwo)\n",
    "\n",
    "requiredTable = requiredTable.rename(columns={0:'Predicted value = 0',1:'Predicted value = 1'})\n",
    "requiredTable = requiredTable.set_index([['True value = 0', 'True value = 1']])\n",
    "print(requiredTable)\n",
    "print('\\nPrediction Accuracy:', (cell_00+cell_11)/93)"
   ]
  },
  {
   "cell_type": "markdown",
   "metadata": {},
   "source": [
    "### Model Result \n",
    "The prediction accuracy of the naive Bayes classifier is 91.4%"
   ]
  },
  {
   "cell_type": "markdown",
   "metadata": {},
   "source": [
    "### 2. Building K Nearest Neighbors Model\n",
    "We shall use the default Euclidean distance to measure the distance between points: $$||u-v||_2=(\\sum_{i=1}^d |u_i-v_i|^2)^{1/2}$$\n",
    "Given the data $(y_1,x_1)...(y_n,x_n)$, the model predicts the label for unseen $x_0$ by finding the k-closest points in the training set to $x_0$, and returning the majority vote.\n",
    "\n",
    "We shall evaluate the performance of the KNN model for different values of k."
   ]
  },
  {
   "cell_type": "code",
   "execution_count": 34,
   "metadata": {
    "collapsed": true
   },
   "outputs": [],
   "source": [
    "listOfNeighbours = []\n",
    "\n",
    "for i in range(0,len(x_test)):\n",
    "\n",
    "    # Duplicating test datapoint\n",
    "    df = pd.DataFrame(x_test.iloc[i,:])\n",
    "    df = df.transpose()\n",
    "    df = df.append([df]*4507, ignore_index=True)\n",
    "\n",
    "    # Finding differences\n",
    "    df = df.subtract(x)\n",
    "    df = df.abs()\n",
    "\n",
    "    # Adding column of sum of absolute differences\n",
    "    df['AbsDiff'] = df[list(df.columns)].sum(axis=1)\n",
    "\n",
    "    # Appending with y\n",
    "    df = pd.concat([df,y.rename(columns={0:'y'})], axis=1)\n",
    "\n",
    "    # Sorting by AbsDiff\n",
    "    df = df.sort_values(by = 'AbsDiff')\n",
    "\n",
    "    # Creating list of nearest neighbors' target value\n",
    "    li = []\n",
    "    for i in range(0,20):\n",
    "        li.append(df.iloc[i,58])\n",
    "    \n",
    "    # Appending list of neighbors to parent list\n",
    "    listOfNeighbours.append(li)"
   ]
  },
  {
   "cell_type": "code",
   "execution_count": 35,
   "metadata": {
    "collapsed": true,
    "scrolled": true
   },
   "outputs": [],
   "source": [
    "def knn(listofneighbours,n):\n",
    "    predict = []\n",
    "    \n",
    "    # Finding mode\n",
    "    for l in listofneighbours:\n",
    "        labelPredict = 0\n",
    "        for i in range(0,n):\n",
    "            labelPredict = labelPredict + l[i]/n\n",
    "            \n",
    "        if (labelPredict>0.5):\n",
    "            predict.append(1)\n",
    "        else:\n",
    "            predict.append(0)\n",
    "    \n",
    "    return predict\n",
    "\n",
    "def accuracyscore(listofneighbours,n):\n",
    "    predict = knn(listofneighbours,n)\n",
    "    accuracy = 0\n",
    "    \n",
    "    # Comparing predicted value with true value\n",
    "    for i in range(0,93):\n",
    "        if (predict[i]==y_test.iloc[i,0]):\n",
    "            accuracy = accuracy + 1/93\n",
    "            \n",
    "    return accuracy"
   ]
  },
  {
   "cell_type": "code",
   "execution_count": 36,
   "metadata": {
    "collapsed": true
   },
   "outputs": [],
   "source": [
    "# Accuracy score by number of neighbours\n",
    "accuracy = []\n",
    "for i in range(1,21):\n",
    "    accuracy.append(accuracyscore(listOfNeighbours,i))\n",
    "    \n",
    "numberofNeighbours = range(1,21)"
   ]
  },
  {
   "cell_type": "markdown",
   "metadata": {},
   "source": [
    "### Plot of Accuracy as a function of Number of Neighbours"
   ]
  },
  {
   "cell_type": "code",
   "execution_count": 38,
   "metadata": {},
   "outputs": [
    {
     "data": {
      "text/plain": [
       "Text(0,0.5,'Accuracy')"
      ]
     },
     "execution_count": 38,
     "metadata": {},
     "output_type": "execute_result"
    },
    {
     "data": {
      "image/png": "[encoded data removed]",
      "text/plain": [
       "<matplotlib.figure.Figure at 0x10db40a20>"
      ]
     },
     "metadata": {},
     "output_type": "display_data"
    }
   ],
   "source": [
    "# Building plot\n",
    "plt.plot(numberofNeighbours, accuracy)\n",
    "plt.suptitle('Accuracy as function of k')\n",
    "plt.xlabel('k')\n",
    "plt.ylabel('Accuracy')"
   ]
  }
 ],
 "metadata": {
  "kernelspec": {
   "display_name": "Python 3",
   "language": "python",
   "name": "python3"
  },
  "language_info": {
   "codemirror_mode": {
    "name": "ipython",
    "version": 3
   },
   "file_extension": ".py",
   "mimetype": "text/x-python",
   "name": "python",
   "nbconvert_exporter": "python",
   "pygments_lexer": "ipython3",
   "version": "3.6.3"
  }
 },
 "nbformat": 4,
 "nbformat_minor": 2
}
